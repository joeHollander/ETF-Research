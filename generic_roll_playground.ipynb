{
 "cells": [
  {
   "cell_type": "code",
   "execution_count": 1,
   "id": "13dd4aee",
   "metadata": {},
   "outputs": [],
   "source": [
    "import pandas as pd\n",
    "import numpy as np\n",
    "import math\n",
    "import matplotlib.pyplot as plt"
   ]
  },
  {
   "cell_type": "code",
   "execution_count": 2,
   "id": "543f1cc3",
   "metadata": {},
   "outputs": [],
   "source": [
    "# read df\n",
    "df = pd.read_csv('Data/gold_futures_ohlcv.csv', parse_dates=['ts_event'])\n",
    "df[\"ts_event\"] = pd.to_datetime(df[\"ts_event\"]).dt.tz_convert('America/New_York') # ensure it's in the correct timezone\n",
    "df = df.set_index('ts_event', inplace=False)"
   ]
  },
  {
   "cell_type": "code",
   "execution_count": 3,
   "id": "e8e5d9a3",
   "metadata": {},
   "outputs": [],
   "source": [
    "# filter for vanilla futures contracts\n",
    "single_contract_filter = (df[\"symbol\"].str.len() == 4)\n",
    "fdf = df[single_contract_filter].copy()"
   ]
  },
  {
   "cell_type": "code",
   "execution_count": 4,
   "id": "698c6b58",
   "metadata": {},
   "outputs": [],
   "source": [
    "future_month_map = {\n",
    "    'F': 1, 'G': 2, 'H': 3, 'J': 4, 'K': 5, 'M': 6,\n",
    "    'N': 7, 'Q': 8, 'U': 9, 'V': 10, 'X': 11, 'Z': 12\n",
    "}"
   ]
  },
  {
   "cell_type": "code",
   "execution_count": 5,
   "id": "3632aeae",
   "metadata": {},
   "outputs": [],
   "source": [
    "# function to determine contract year\n",
    "def get_contract_year(row):\n",
    "    contract_year_first_digit = int(row[\"symbol\"][3])\n",
    "    curr_year = row.name.year\n",
    "    if contract_year_first_digit < curr_year % 10:\n",
    "        contract_year = math.ceil(curr_year / 10) * 10 + contract_year_first_digit\n",
    "    else:\n",
    "        contract_year = math.floor(curr_year / 10) * 10 + contract_year_first_digit\n",
    "    return contract_year\n",
    "\n",
    "fdf[\"contract_year\"] = fdf.apply(get_contract_year, axis=1)\n",
    "fdf[\"contract_month\"] = fdf.apply(lambda row: future_month_map[row['symbol'][2]], axis=1)"
   ]
  },
  {
   "cell_type": "code",
   "execution_count": 6,
   "id": "cc02e9bd",
   "metadata": {},
   "outputs": [],
   "source": [
    "# function to determine expiry length\n",
    "def get_expiry_length(row):\n",
    "    month = future_month_map[row['symbol'][2]]\n",
    "    year = row[\"contract_year\"]\n",
    "    # Calculate the difference in months\n",
    "    return (year - row.name.year) * 12 + month - row.name.month\n",
    "\n",
    "fdf[\"expiry_length\"] = fdf.apply(get_expiry_length, axis=1)"
   ]
  },
  {
   "cell_type": "code",
   "execution_count": 7,
   "id": "d3bd871c",
   "metadata": {},
   "outputs": [],
   "source": [
    "LENGTH = 6\n",
    "frdf = fdf[fdf['expiry_length'] == LENGTH].copy()\n",
    "sdf = fdf[fdf['expiry_length'] == (LENGTH + 1)].copy()"
   ]
  },
  {
   "cell_type": "code",
   "execution_count": 11,
   "id": "b2b864f7",
   "metadata": {},
   "outputs": [
    {
     "data": {
      "text/plain": [
       "((2273, 12), (2251, 12))"
      ]
     },
     "execution_count": 11,
     "metadata": {},
     "output_type": "execute_result"
    }
   ],
   "source": [
    "frdf.shape, sdf.shape"
   ]
  },
  {
   "cell_type": "code",
   "execution_count": 70,
   "id": "b2a2e96a",
   "metadata": {},
   "outputs": [],
   "source": [
    "import pandas as pd\n",
    "import numpy as np\n",
    "\n",
    "def create_continuous_contract_vectorized(combined_df, LENGTH, verbose=False):\n",
    "    \"\"\"\n",
    "    Creates a continuous futures contract series using vectorized operations.\n",
    "    \"\"\"\n",
    "    # Ensure the dataframe is sorted by date\n",
    "    combined = combined_df.sort_index()\n",
    "\n",
    "    # --- Step 1: Select the correct contract for each day ---\n",
    "    # This replaces the entire loop and the if/else logic for contract selection.\n",
    "    \n",
    "    def select_contract(group):\n",
    "        # Prioritize contract with the target expiry_length\n",
    "        target_contract = group[group['expiry_length'] == LENGTH]\n",
    "        if not target_contract.empty:\n",
    "            return target_contract.iloc[0]\n",
    "        \n",
    "        # Fallback to the next length if the target is not found\n",
    "        fallback_contract = group[group['expiry_length'] == LENGTH + 1]\n",
    "        if not fallback_contract.empty:\n",
    "            return fallback_contract.iloc[0]\n",
    "        \n",
    "        return None # Or handle cases where neither is found\n",
    "\n",
    "    # Group by date and apply the selection logic\n",
    "    # We use the date part of the index for grouping daily data\n",
    "    daily_contracts = combined.groupby(combined.index.date).apply(select_contract)\n",
    "    daily_contracts = daily_contracts.dropna() # Remove days where no contract was found\n",
    "\n",
    "    # --- Step 2: Calculate the adjustments vectorially ---\n",
    "    # Use .shift() to get the previous day's symbol and close price\n",
    "    prev_symbol = daily_contracts['symbol'].shift(1)\n",
    "    prev_close = daily_contracts['close'].shift(1)\n",
    "    \n",
    "    # A rollover occurs where the current symbol is different from the previous day's symbol\n",
    "    is_rollover = (daily_contracts['symbol'] != prev_symbol) & (prev_symbol.notna())\n",
    "    \n",
    "    # Your original code had two adjustment cases. The most common case is\n",
    "    # adjusting by the difference between the new contract's price and the\n",
    "    # previous day's closing price. This is easily vectorized.\n",
    "    # Note: The complex same-day adjustment requires a merge and is slower.\n",
    "    # This standard method is often sufficient and much faster.\n",
    "    adjustment_values = daily_contracts['close'] - prev_close\n",
    "    \n",
    "    # Use np.where to apply the adjustment only on rollover days, otherwise it's 0\n",
    "    daily_contracts['adjustment'] = np.where(is_rollover, adjustment_values, 0)\n",
    "    \n",
    "    # The count of adjustments is simply the sum of the boolean 'is_rollover' Series\n",
    "    if verbose:\n",
    "        print(f'Percent of diff day adjustments {is_rollover.sum()}')\n",
    "\n",
    "    return daily_contracts"
   ]
  },
  {
   "cell_type": "code",
   "execution_count": 71,
   "id": "cc0c41c9",
   "metadata": {},
   "outputs": [
    {
     "name": "stdout",
     "output_type": "stream",
     "text": [
      "Percent of diff day adjustments 110\n"
     ]
    }
   ],
   "source": [
    "test = create_continuous_contract_vectorized(fdf, 6, verbose=True)"
   ]
  },
  {
   "cell_type": "code",
   "execution_count": 39,
   "id": "d7cd7922",
   "metadata": {},
   "outputs": [],
   "source": [
    "def roll_contract(df, LENGTH, verbose=False):\n",
    "    # filter for contracts with the target expiry LENGTH or the next one\n",
    "    candidates = df[df['expiry_length'].isin([LENGTH, LENGTH + 1])].copy()\n",
    "    \n",
    "    # use a clean date column for daily selection\n",
    "    candidates['date'] = pd.to_datetime(candidates.index.date)\n",
    "\n",
    "    # for each day, prefer the contract with the shorter expiry LENGTH\n",
    "    candidates.sort_values(by=['date', 'expiry_length'], inplace=True)\n",
    "    ndf = candidates.drop_duplicates(subset='date', keep='first').set_index('date')\n",
    "\n",
    "    if verbose:\n",
    "        missing_days = ndf['close'].isna().sum()\n",
    "        print(f\"no valid contract found for {missing_days} business days before filling.\")\n",
    "    \n",
    "    # identify the day before the contract roll to calculate the adjustment\n",
    "    is_roll_day = ndf['symbol'] != ndf['symbol'].shift(-1)\n",
    "\n",
    "    # calculate price adjustment using a forward-looking shift (-1)\n",
    "    adjustment = np.where(\n",
    "        is_roll_day,\n",
    "        ndf['open'].shift(-1) - ndf['close'],\n",
    "        0\n",
    "    )\n",
    "    ndf['adjustment'] = np.where(np.isnan(adjustment), 0, adjustment)\n",
    "    \n",
    "    # apply a reverse cumulative sum of adjustments to create a continuous series\n",
    "    total_adjustment = ndf['adjustment'].iloc[::-1].cumsum().iloc[::-1]\n",
    "    \n",
    "    cols_to_adjust = ['open', 'high', 'low', 'close']\n",
    "    ndf[cols_to_adjust] = ndf[cols_to_adjust].add(total_adjustment, axis=0)\n",
    "\n",
    "    return ndf"
   ]
  },
  {
   "cell_type": "code",
   "execution_count": 40,
   "id": "dd4aadb5",
   "metadata": {},
   "outputs": [
    {
     "name": "stdout",
     "output_type": "stream",
     "text": [
      "no valid contract found for 0 business days before filling.\n"
     ]
    },
    {
     "data": {
      "text/plain": [
       "(4701, 4474)"
      ]
     },
     "execution_count": 40,
     "metadata": {},
     "output_type": "execute_result"
    }
   ],
   "source": [
    "kwk = roll_contract(fdf.iloc[:-10], 6, verbose=True)\n",
    "fdf.index.nunique(), kwk.index.nunique()"
   ]
  },
  {
   "cell_type": "code",
   "execution_count": 42,
   "id": "f977adbb",
   "metadata": {},
   "outputs": [
    {
     "data": {
      "text/plain": [
       "rtype                   35\n",
       "publisher_id             1\n",
       "instrument_id     42028866\n",
       "open                3401.3\n",
       "high                3402.0\n",
       "low                 3341.4\n",
       "close               3344.7\n",
       "volume                  23\n",
       "symbol                GCF6\n",
       "contract_year         2026\n",
       "contract_month           1\n",
       "expiry_length            6\n",
       "adjustment             0.0\n",
       "Name: 2025-07-29 00:00:00, dtype: object"
      ]
     },
     "execution_count": 42,
     "metadata": {},
     "output_type": "execute_result"
    }
   ],
   "source": [
    "kwk.iloc[-1]"
   ]
  }
 ],
 "metadata": {
  "kernelspec": {
   "display_name": "qfi",
   "language": "python",
   "name": "python3"
  },
  "language_info": {
   "codemirror_mode": {
    "name": "ipython",
    "version": 3
   },
   "file_extension": ".py",
   "mimetype": "text/x-python",
   "name": "python",
   "nbconvert_exporter": "python",
   "pygments_lexer": "ipython3",
   "version": "3.12.4"
  }
 },
 "nbformat": 4,
 "nbformat_minor": 5
}
